{
 "cells": [
  {
   "cell_type": "code",
   "execution_count": 1,
   "metadata": {},
   "outputs": [
    {
     "name": "stdout",
     "output_type": "stream",
     "text": [
      "/CCSM/csm/CESM-CAM5-BGC-LowWarming/atm/proc/tseries/monthly/TREFHT\n"
     ]
    }
   ],
   "source": [
    "varname=TREFHT\n",
    "hsi_path=/CCSM/csm/CESM-CAM5-BGC-LowWarming/atm/proc/tseries/monthly\n",
    "echo ${hsi_path}/${varname}"
   ]
  },
  {
   "cell_type": "code",
   "execution_count": 7,
   "metadata": {},
   "outputs": [],
   "source": [
    "#local_path=/glade/scratch/mclong/hpss-mirror/CESM-CAM5-BGC-LowWarming/atm/proc/tseries/monthly\n",
    "local_path=/glade/campaign/cgd/oce/people/mclong/CESM-CAM5-BGC-LowWarming/atm/proc/tseries/monthly\n",
    "mkdir -p ${local_path}/${varname}\n",
    "cd ${local_path}/${varname}"
   ]
  },
  {
   "cell_type": "code",
   "execution_count": 4,
   "metadata": {},
   "outputs": [
    {
     "name": "stdout",
     "output_type": "stream",
     "text": [
      "result = -10003, errno = 0   \n",
      "*** hpssex_OpenConnection: Unable to authenticate user with remote gateway at 128.117.181.18.1217result = -10003, errno = 9\n",
      "Unable to setup communication to HPSS...\n",
      "*** HSI: error opening logging\n",
      "Error - authentication/initialization failed\n"
     ]
    },
    {
     "ename": "",
     "evalue": "1",
     "execution_count": 4,
     "output_type": "error",
     "traceback": []
    }
   ],
   "source": [
    "hsi \"cd ${hsi_path}/${varname}; cget *.nc\""
   ]
  },
  {
   "cell_type": "code",
   "execution_count": 8,
   "metadata": {},
   "outputs": [
    {
     "name": "stdout",
     "output_type": "stream",
     "text": [
      "‘/glade/scratch/mclong/hpss-mirror/CESM-CAM5-BGC-LowWarming/atm/proc/tseries/monthly/TREFHT/b.e11.BRCP26C5CNBDRD.f09_g16.1pt5degC.001.cam.h0.TREFHT.200601-210012.nc’ -> ‘/glade/campaign/cgd/oce/people/mclong/CESM-CAM5-BGC-LowWarming/atm/proc/tseries/monthly/TREFHT/./b.e11.BRCP26C5CNBDRD.f09_g16.1pt5degC.001.cam.h0.TREFHT.200601-210012.nc’\n",
      "removed ‘/glade/scratch/mclong/hpss-mirror/CESM-CAM5-BGC-LowWarming/atm/proc/tseries/monthly/TREFHT/b.e11.BRCP26C5CNBDRD.f09_g16.1pt5degC.001.cam.h0.TREFHT.200601-210012.nc’\n",
      "‘/glade/scratch/mclong/hpss-mirror/CESM-CAM5-BGC-LowWarming/atm/proc/tseries/monthly/TREFHT/b.e11.BRCP26C5CNBDRD.f09_g16.1pt5degC.002.cam.h0.TREFHT.200601-210012.nc’ -> ‘/glade/campaign/cgd/oce/people/mclong/CESM-CAM5-BGC-LowWarming/atm/proc/tseries/monthly/TREFHT/./b.e11.BRCP26C5CNBDRD.f09_g16.1pt5degC.002.cam.h0.TREFHT.200601-210012.nc’\n",
      "removed ‘/glade/scratch/mclong/hpss-mirror/CESM-CAM5-BGC-LowWarming/atm/proc/tseries/monthly/TREFHT/b.e11.BRCP26C5CNBDRD.f09_g16.1pt5degC.002.cam.h0.TREFHT.200601-210012.nc’\n",
      "‘/glade/scratch/mclong/hpss-mirror/CESM-CAM5-BGC-LowWarming/atm/proc/tseries/monthly/TREFHT/b.e11.BRCP26C5CNBDRD.f09_g16.1pt5degC.003.cam.h0.TREFHT.200601-210012.nc’ -> ‘/glade/campaign/cgd/oce/people/mclong/CESM-CAM5-BGC-LowWarming/atm/proc/tseries/monthly/TREFHT/./b.e11.BRCP26C5CNBDRD.f09_g16.1pt5degC.003.cam.h0.TREFHT.200601-210012.nc’\n",
      "removed ‘/glade/scratch/mclong/hpss-mirror/CESM-CAM5-BGC-LowWarming/atm/proc/tseries/monthly/TREFHT/b.e11.BRCP26C5CNBDRD.f09_g16.1pt5degC.003.cam.h0.TREFHT.200601-210012.nc’\n",
      "‘/glade/scratch/mclong/hpss-mirror/CESM-CAM5-BGC-LowWarming/atm/proc/tseries/monthly/TREFHT/b.e11.BRCP26C5CNBDRD.f09_g16.1pt5degC.004.cam.h0.TREFHT.200601-210012.nc’ -> ‘/glade/campaign/cgd/oce/people/mclong/CESM-CAM5-BGC-LowWarming/atm/proc/tseries/monthly/TREFHT/./b.e11.BRCP26C5CNBDRD.f09_g16.1pt5degC.004.cam.h0.TREFHT.200601-210012.nc’\n",
      "removed ‘/glade/scratch/mclong/hpss-mirror/CESM-CAM5-BGC-LowWarming/atm/proc/tseries/monthly/TREFHT/b.e11.BRCP26C5CNBDRD.f09_g16.1pt5degC.004.cam.h0.TREFHT.200601-210012.nc’\n",
      "‘/glade/scratch/mclong/hpss-mirror/CESM-CAM5-BGC-LowWarming/atm/proc/tseries/monthly/TREFHT/b.e11.BRCP26C5CNBDRD.f09_g16.1pt5degC.005.cam.h0.TREFHT.200601-210012.nc’ -> ‘/glade/campaign/cgd/oce/people/mclong/CESM-CAM5-BGC-LowWarming/atm/proc/tseries/monthly/TREFHT/./b.e11.BRCP26C5CNBDRD.f09_g16.1pt5degC.005.cam.h0.TREFHT.200601-210012.nc’\n",
      "removed ‘/glade/scratch/mclong/hpss-mirror/CESM-CAM5-BGC-LowWarming/atm/proc/tseries/monthly/TREFHT/b.e11.BRCP26C5CNBDRD.f09_g16.1pt5degC.005.cam.h0.TREFHT.200601-210012.nc’\n",
      "‘/glade/scratch/mclong/hpss-mirror/CESM-CAM5-BGC-LowWarming/atm/proc/tseries/monthly/TREFHT/b.e11.BRCP26C5CNBDRD.f09_g16.1pt5degC.006.cam.h0.TREFHT.200601-210012.nc’ -> ‘/glade/campaign/cgd/oce/people/mclong/CESM-CAM5-BGC-LowWarming/atm/proc/tseries/monthly/TREFHT/./b.e11.BRCP26C5CNBDRD.f09_g16.1pt5degC.006.cam.h0.TREFHT.200601-210012.nc’\n",
      "removed ‘/glade/scratch/mclong/hpss-mirror/CESM-CAM5-BGC-LowWarming/atm/proc/tseries/monthly/TREFHT/b.e11.BRCP26C5CNBDRD.f09_g16.1pt5degC.006.cam.h0.TREFHT.200601-210012.nc’\n",
      "‘/glade/scratch/mclong/hpss-mirror/CESM-CAM5-BGC-LowWarming/atm/proc/tseries/monthly/TREFHT/b.e11.BRCP26C5CNBDRD.f09_g16.1pt5degC.007.cam.h0.TREFHT.200601-205012.nc’ -> ‘/glade/campaign/cgd/oce/people/mclong/CESM-CAM5-BGC-LowWarming/atm/proc/tseries/monthly/TREFHT/./b.e11.BRCP26C5CNBDRD.f09_g16.1pt5degC.007.cam.h0.TREFHT.200601-205012.nc’\n",
      "removed ‘/glade/scratch/mclong/hpss-mirror/CESM-CAM5-BGC-LowWarming/atm/proc/tseries/monthly/TREFHT/b.e11.BRCP26C5CNBDRD.f09_g16.1pt5degC.007.cam.h0.TREFHT.200601-205012.nc’\n",
      "‘/glade/scratch/mclong/hpss-mirror/CESM-CAM5-BGC-LowWarming/atm/proc/tseries/monthly/TREFHT/b.e11.BRCP26C5CNBDRD.f09_g16.1pt5degC.007.cam.h0.TREFHT.205101-210012.nc’ -> ‘/glade/campaign/cgd/oce/people/mclong/CESM-CAM5-BGC-LowWarming/atm/proc/tseries/monthly/TREFHT/./b.e11.BRCP26C5CNBDRD.f09_g16.1pt5degC.007.cam.h0.TREFHT.205101-210012.nc’\n",
      "removed ‘/glade/scratch/mclong/hpss-mirror/CESM-CAM5-BGC-LowWarming/atm/proc/tseries/monthly/TREFHT/b.e11.BRCP26C5CNBDRD.f09_g16.1pt5degC.007.cam.h0.TREFHT.205101-210012.nc’\n",
      "‘/glade/scratch/mclong/hpss-mirror/CESM-CAM5-BGC-LowWarming/atm/proc/tseries/monthly/TREFHT/b.e11.BRCP26C5CNBDRD.f09_g16.1pt5degC.008.cam.h0.TREFHT.200601-210012.nc’ -> ‘/glade/campaign/cgd/oce/people/mclong/CESM-CAM5-BGC-LowWarming/atm/proc/tseries/monthly/TREFHT/./b.e11.BRCP26C5CNBDRD.f09_g16.1pt5degC.008.cam.h0.TREFHT.200601-210012.nc’\n",
      "removed ‘/glade/scratch/mclong/hpss-mirror/CESM-CAM5-BGC-LowWarming/atm/proc/tseries/monthly/TREFHT/b.e11.BRCP26C5CNBDRD.f09_g16.1pt5degC.008.cam.h0.TREFHT.200601-210012.nc’\n",
      "‘/glade/scratch/mclong/hpss-mirror/CESM-CAM5-BGC-LowWarming/atm/proc/tseries/monthly/TREFHT/b.e11.BRCP26C5CNBDRD.f09_g16.1pt5degC.009.cam.h0.TREFHT.200601-210012.nc’ -> ‘/glade/campaign/cgd/oce/people/mclong/CESM-CAM5-BGC-LowWarming/atm/proc/tseries/monthly/TREFHT/./b.e11.BRCP26C5CNBDRD.f09_g16.1pt5degC.009.cam.h0.TREFHT.200601-210012.nc’\n",
      "removed ‘/glade/scratch/mclong/hpss-mirror/CESM-CAM5-BGC-LowWarming/atm/proc/tseries/monthly/TREFHT/b.e11.BRCP26C5CNBDRD.f09_g16.1pt5degC.009.cam.h0.TREFHT.200601-210012.nc’\n",
      "‘/glade/scratch/mclong/hpss-mirror/CESM-CAM5-BGC-LowWarming/atm/proc/tseries/monthly/TREFHT/b.e11.BRCP26C5CNBDRD.f09_g16.1pt5degC.009c.cam.h0.TREFHT.200601-210012.nc’ -> ‘/glade/campaign/cgd/oce/people/mclong/CESM-CAM5-BGC-LowWarming/atm/proc/tseries/monthly/TREFHT/./b.e11.BRCP26C5CNBDRD.f09_g16.1pt5degC.009c.cam.h0.TREFHT.200601-210012.nc’\n",
      "removed ‘/glade/scratch/mclong/hpss-mirror/CESM-CAM5-BGC-LowWarming/atm/proc/tseries/monthly/TREFHT/b.e11.BRCP26C5CNBDRD.f09_g16.1pt5degC.009c.cam.h0.TREFHT.200601-210012.nc’\n",
      "‘/glade/scratch/mclong/hpss-mirror/CESM-CAM5-BGC-LowWarming/atm/proc/tseries/monthly/TREFHT/b.e11.BRCP26C5CNBDRD.f09_g16.1pt5degC.010.cam.h0.TREFHT.200601-210012.nc’ -> ‘/glade/campaign/cgd/oce/people/mclong/CESM-CAM5-BGC-LowWarming/atm/proc/tseries/monthly/TREFHT/./b.e11.BRCP26C5CNBDRD.f09_g16.1pt5degC.010.cam.h0.TREFHT.200601-210012.nc’\n",
      "removed ‘/glade/scratch/mclong/hpss-mirror/CESM-CAM5-BGC-LowWarming/atm/proc/tseries/monthly/TREFHT/b.e11.BRCP26C5CNBDRD.f09_g16.1pt5degC.010.cam.h0.TREFHT.200601-210012.nc’\n",
      "‘/glade/scratch/mclong/hpss-mirror/CESM-CAM5-BGC-LowWarming/atm/proc/tseries/monthly/TREFHT/b.e11.BRCP26C5CNBDRD.f09_g16.1pt5degC.010c.cam.h0.TREFHT.200601-210012.nc’ -> ‘/glade/campaign/cgd/oce/people/mclong/CESM-CAM5-BGC-LowWarming/atm/proc/tseries/monthly/TREFHT/./b.e11.BRCP26C5CNBDRD.f09_g16.1pt5degC.010c.cam.h0.TREFHT.200601-210012.nc’\n",
      "removed ‘/glade/scratch/mclong/hpss-mirror/CESM-CAM5-BGC-LowWarming/atm/proc/tseries/monthly/TREFHT/b.e11.BRCP26C5CNBDRD.f09_g16.1pt5degC.010c.cam.h0.TREFHT.200601-210012.nc’\n",
      "‘/glade/scratch/mclong/hpss-mirror/CESM-CAM5-BGC-LowWarming/atm/proc/tseries/monthly/TREFHT/b.e11.BRCP26C5CNBDRD.f09_g16.1pt5degC.011.cam.h0.TREFHT.200601-210012.nc’ -> ‘/glade/campaign/cgd/oce/people/mclong/CESM-CAM5-BGC-LowWarming/atm/proc/tseries/monthly/TREFHT/./b.e11.BRCP26C5CNBDRD.f09_g16.1pt5degC.011.cam.h0.TREFHT.200601-210012.nc’\n",
      "removed ‘/glade/scratch/mclong/hpss-mirror/CESM-CAM5-BGC-LowWarming/atm/proc/tseries/monthly/TREFHT/b.e11.BRCP26C5CNBDRD.f09_g16.1pt5degC.011.cam.h0.TREFHT.200601-210012.nc’\n",
      "‘/glade/scratch/mclong/hpss-mirror/CESM-CAM5-BGC-LowWarming/atm/proc/tseries/monthly/TREFHT/b.e11.BRCP26C5CNBDRD.f09_g16.1pt5degC.011c.cam.h0.TREFHT.200601-210012.nc’ -> ‘/glade/campaign/cgd/oce/people/mclong/CESM-CAM5-BGC-LowWarming/atm/proc/tseries/monthly/TREFHT/./b.e11.BRCP26C5CNBDRD.f09_g16.1pt5degC.011c.cam.h0.TREFHT.200601-210012.nc’\n",
      "removed ‘/glade/scratch/mclong/hpss-mirror/CESM-CAM5-BGC-LowWarming/atm/proc/tseries/monthly/TREFHT/b.e11.BRCP26C5CNBDRD.f09_g16.1pt5degC.011c.cam.h0.TREFHT.200601-210012.nc’\n",
      "‘/glade/scratch/mclong/hpss-mirror/CESM-CAM5-BGC-LowWarming/atm/proc/tseries/monthly/TREFHT/b.e11.BRCP26C5CNBDRD.f09_g16.1pt5degC.012c.cam.h0.TREFHT.200601-210012.nc’ -> ‘/glade/campaign/cgd/oce/people/mclong/CESM-CAM5-BGC-LowWarming/atm/proc/tseries/monthly/TREFHT/./b.e11.BRCP26C5CNBDRD.f09_g16.1pt5degC.012c.cam.h0.TREFHT.200601-210012.nc’\n",
      "removed ‘/glade/scratch/mclong/hpss-mirror/CESM-CAM5-BGC-LowWarming/atm/proc/tseries/monthly/TREFHT/b.e11.BRCP26C5CNBDRD.f09_g16.1pt5degC.012c.cam.h0.TREFHT.200601-210012.nc’\n",
      "‘/glade/scratch/mclong/hpss-mirror/CESM-CAM5-BGC-LowWarming/atm/proc/tseries/monthly/TREFHT/b.e11.BRCP26C5CNBDRD.f09_g16.1pt5degC.013c.cam.h0.TREFHT.200601-210012.nc’ -> ‘/glade/campaign/cgd/oce/people/mclong/CESM-CAM5-BGC-LowWarming/atm/proc/tseries/monthly/TREFHT/./b.e11.BRCP26C5CNBDRD.f09_g16.1pt5degC.013c.cam.h0.TREFHT.200601-210012.nc’\n",
      "removed ‘/glade/scratch/mclong/hpss-mirror/CESM-CAM5-BGC-LowWarming/atm/proc/tseries/monthly/TREFHT/b.e11.BRCP26C5CNBDRD.f09_g16.1pt5degC.013c.cam.h0.TREFHT.200601-210012.nc’\n",
      "‘/glade/scratch/mclong/hpss-mirror/CESM-CAM5-BGC-LowWarming/atm/proc/tseries/monthly/TREFHT/b.e11.BRCP26C5CNBDRD.f09_g16.1pt5degC.014c.cam.h0.TREFHT.200601-210012.nc’ -> ‘/glade/campaign/cgd/oce/people/mclong/CESM-CAM5-BGC-LowWarming/atm/proc/tseries/monthly/TREFHT/./b.e11.BRCP26C5CNBDRD.f09_g16.1pt5degC.014c.cam.h0.TREFHT.200601-210012.nc’\n",
      "removed ‘/glade/scratch/mclong/hpss-mirror/CESM-CAM5-BGC-LowWarming/atm/proc/tseries/monthly/TREFHT/b.e11.BRCP26C5CNBDRD.f09_g16.1pt5degC.014c.cam.h0.TREFHT.200601-210012.nc’\n",
      "‘/glade/scratch/mclong/hpss-mirror/CESM-CAM5-BGC-LowWarming/atm/proc/tseries/monthly/TREFHT/b.e11.BRCP26C5CNBDRD.f09_g16.1pt5degC_OS.001.cam.h0.TREFHT.200601-210012.nc’ -> ‘/glade/campaign/cgd/oce/people/mclong/CESM-CAM5-BGC-LowWarming/atm/proc/tseries/monthly/TREFHT/./b.e11.BRCP26C5CNBDRD.f09_g16.1pt5degC_OS.001.cam.h0.TREFHT.200601-210012.nc’\n",
      "removed ‘/glade/scratch/mclong/hpss-mirror/CESM-CAM5-BGC-LowWarming/atm/proc/tseries/monthly/TREFHT/b.e11.BRCP26C5CNBDRD.f09_g16.1pt5degC_OS.001.cam.h0.TREFHT.200601-210012.nc’\n",
      "‘/glade/scratch/mclong/hpss-mirror/CESM-CAM5-BGC-LowWarming/atm/proc/tseries/monthly/TREFHT/b.e11.BRCP26C5CNBDRD.f09_g16.1pt5degC_OS.002.cam.h0.TREFHT.200601-210012.nc’ -> ‘/glade/campaign/cgd/oce/people/mclong/CESM-CAM5-BGC-LowWarming/atm/proc/tseries/monthly/TREFHT/./b.e11.BRCP26C5CNBDRD.f09_g16.1pt5degC_OS.002.cam.h0.TREFHT.200601-210012.nc’\n",
      "removed ‘/glade/scratch/mclong/hpss-mirror/CESM-CAM5-BGC-LowWarming/atm/proc/tseries/monthly/TREFHT/b.e11.BRCP26C5CNBDRD.f09_g16.1pt5degC_OS.002.cam.h0.TREFHT.200601-210012.nc’\n",
      "‘/glade/scratch/mclong/hpss-mirror/CESM-CAM5-BGC-LowWarming/atm/proc/tseries/monthly/TREFHT/b.e11.BRCP26C5CNBDRD.f09_g16.1pt5degC_OS.003.cam.h0.TREFHT.200601-210012.nc’ -> ‘/glade/campaign/cgd/oce/people/mclong/CESM-CAM5-BGC-LowWarming/atm/proc/tseries/monthly/TREFHT/./b.e11.BRCP26C5CNBDRD.f09_g16.1pt5degC_OS.003.cam.h0.TREFHT.200601-210012.nc’\n",
      "removed ‘/glade/scratch/mclong/hpss-mirror/CESM-CAM5-BGC-LowWarming/atm/proc/tseries/monthly/TREFHT/b.e11.BRCP26C5CNBDRD.f09_g16.1pt5degC_OS.003.cam.h0.TREFHT.200601-210012.nc’\n",
      "‘/glade/scratch/mclong/hpss-mirror/CESM-CAM5-BGC-LowWarming/atm/proc/tseries/monthly/TREFHT/b.e11.BRCP26C5CNBDRD.f09_g16.1pt5degC_OS.004.cam.h0.TREFHT.200601-210012.nc’ -> ‘/glade/campaign/cgd/oce/people/mclong/CESM-CAM5-BGC-LowWarming/atm/proc/tseries/monthly/TREFHT/./b.e11.BRCP26C5CNBDRD.f09_g16.1pt5degC_OS.004.cam.h0.TREFHT.200601-210012.nc’\n",
      "removed ‘/glade/scratch/mclong/hpss-mirror/CESM-CAM5-BGC-LowWarming/atm/proc/tseries/monthly/TREFHT/b.e11.BRCP26C5CNBDRD.f09_g16.1pt5degC_OS.004.cam.h0.TREFHT.200601-210012.nc’\n",
      "‘/glade/scratch/mclong/hpss-mirror/CESM-CAM5-BGC-LowWarming/atm/proc/tseries/monthly/TREFHT/b.e11.BRCP26C5CNBDRD.f09_g16.1pt5degC_OS.005.cam.h0.TREFHT.200601-205012.nc’ -> ‘/glade/campaign/cgd/oce/people/mclong/CESM-CAM5-BGC-LowWarming/atm/proc/tseries/monthly/TREFHT/./b.e11.BRCP26C5CNBDRD.f09_g16.1pt5degC_OS.005.cam.h0.TREFHT.200601-205012.nc’\n",
      "removed ‘/glade/scratch/mclong/hpss-mirror/CESM-CAM5-BGC-LowWarming/atm/proc/tseries/monthly/TREFHT/b.e11.BRCP26C5CNBDRD.f09_g16.1pt5degC_OS.005.cam.h0.TREFHT.200601-205012.nc’\n",
      "‘/glade/scratch/mclong/hpss-mirror/CESM-CAM5-BGC-LowWarming/atm/proc/tseries/monthly/TREFHT/b.e11.BRCP26C5CNBDRD.f09_g16.1pt5degC_OS.005.cam.h0.TREFHT.205101-210012.nc’ -> ‘/glade/campaign/cgd/oce/people/mclong/CESM-CAM5-BGC-LowWarming/atm/proc/tseries/monthly/TREFHT/./b.e11.BRCP26C5CNBDRD.f09_g16.1pt5degC_OS.005.cam.h0.TREFHT.205101-210012.nc’\n",
      "removed ‘/glade/scratch/mclong/hpss-mirror/CESM-CAM5-BGC-LowWarming/atm/proc/tseries/monthly/TREFHT/b.e11.BRCP26C5CNBDRD.f09_g16.1pt5degC_OS.005.cam.h0.TREFHT.205101-210012.nc’\n",
      "‘/glade/scratch/mclong/hpss-mirror/CESM-CAM5-BGC-LowWarming/atm/proc/tseries/monthly/TREFHT/b.e11.BRCP26C5CNBDRD.f09_g16.1pt5degC_OS.009c.cam.h0.TREFHT.200601-210012.nc’ -> ‘/glade/campaign/cgd/oce/people/mclong/CESM-CAM5-BGC-LowWarming/atm/proc/tseries/monthly/TREFHT/./b.e11.BRCP26C5CNBDRD.f09_g16.1pt5degC_OS.009c.cam.h0.TREFHT.200601-210012.nc’\n",
      "removed ‘/glade/scratch/mclong/hpss-mirror/CESM-CAM5-BGC-LowWarming/atm/proc/tseries/monthly/TREFHT/b.e11.BRCP26C5CNBDRD.f09_g16.1pt5degC_OS.009c.cam.h0.TREFHT.200601-210012.nc’\n",
      "‘/glade/scratch/mclong/hpss-mirror/CESM-CAM5-BGC-LowWarming/atm/proc/tseries/monthly/TREFHT/b.e11.BRCP26C5CNBDRD.f09_g16.1pt5degC_OS.010c.cam.h0.TREFHT.200601-210012.nc’ -> ‘/glade/campaign/cgd/oce/people/mclong/CESM-CAM5-BGC-LowWarming/atm/proc/tseries/monthly/TREFHT/./b.e11.BRCP26C5CNBDRD.f09_g16.1pt5degC_OS.010c.cam.h0.TREFHT.200601-210012.nc’\n",
      "removed ‘/glade/scratch/mclong/hpss-mirror/CESM-CAM5-BGC-LowWarming/atm/proc/tseries/monthly/TREFHT/b.e11.BRCP26C5CNBDRD.f09_g16.1pt5degC_OS.010c.cam.h0.TREFHT.200601-210012.nc’\n",
      "‘/glade/scratch/mclong/hpss-mirror/CESM-CAM5-BGC-LowWarming/atm/proc/tseries/monthly/TREFHT/b.e11.BRCP26C5CNBDRD.f09_g16.1pt5degC_OS.011.cam.h0.TREFHT.200601-205012.nc’ -> ‘/glade/campaign/cgd/oce/people/mclong/CESM-CAM5-BGC-LowWarming/atm/proc/tseries/monthly/TREFHT/./b.e11.BRCP26C5CNBDRD.f09_g16.1pt5degC_OS.011.cam.h0.TREFHT.200601-205012.nc’\n",
      "removed ‘/glade/scratch/mclong/hpss-mirror/CESM-CAM5-BGC-LowWarming/atm/proc/tseries/monthly/TREFHT/b.e11.BRCP26C5CNBDRD.f09_g16.1pt5degC_OS.011.cam.h0.TREFHT.200601-205012.nc’\n",
      "‘/glade/scratch/mclong/hpss-mirror/CESM-CAM5-BGC-LowWarming/atm/proc/tseries/monthly/TREFHT/b.e11.BRCP26C5CNBDRD.f09_g16.1pt5degC_OS.011.cam.h0.TREFHT.205101-210012.nc’ -> ‘/glade/campaign/cgd/oce/people/mclong/CESM-CAM5-BGC-LowWarming/atm/proc/tseries/monthly/TREFHT/./b.e11.BRCP26C5CNBDRD.f09_g16.1pt5degC_OS.011.cam.h0.TREFHT.205101-210012.nc’\n",
      "removed ‘/glade/scratch/mclong/hpss-mirror/CESM-CAM5-BGC-LowWarming/atm/proc/tseries/monthly/TREFHT/b.e11.BRCP26C5CNBDRD.f09_g16.1pt5degC_OS.011.cam.h0.TREFHT.205101-210012.nc’\n",
      "‘/glade/scratch/mclong/hpss-mirror/CESM-CAM5-BGC-LowWarming/atm/proc/tseries/monthly/TREFHT/b.e11.BRCP26C5CNBDRD.f09_g16.1pt5degC_OS.011c.cam.h0.TREFHT.200601-210012.nc’ -> ‘/glade/campaign/cgd/oce/people/mclong/CESM-CAM5-BGC-LowWarming/atm/proc/tseries/monthly/TREFHT/./b.e11.BRCP26C5CNBDRD.f09_g16.1pt5degC_OS.011c.cam.h0.TREFHT.200601-210012.nc’\n",
      "removed ‘/glade/scratch/mclong/hpss-mirror/CESM-CAM5-BGC-LowWarming/atm/proc/tseries/monthly/TREFHT/b.e11.BRCP26C5CNBDRD.f09_g16.1pt5degC_OS.011c.cam.h0.TREFHT.200601-210012.nc’\n",
      "‘/glade/scratch/mclong/hpss-mirror/CESM-CAM5-BGC-LowWarming/atm/proc/tseries/monthly/TREFHT/b.e11.BRCP26C5CNBDRD.f09_g16.1pt5degC_OS.012c.cam.h0.TREFHT.200601-210012.nc’ -> ‘/glade/campaign/cgd/oce/people/mclong/CESM-CAM5-BGC-LowWarming/atm/proc/tseries/monthly/TREFHT/./b.e11.BRCP26C5CNBDRD.f09_g16.1pt5degC_OS.012c.cam.h0.TREFHT.200601-210012.nc’\n",
      "removed ‘/glade/scratch/mclong/hpss-mirror/CESM-CAM5-BGC-LowWarming/atm/proc/tseries/monthly/TREFHT/b.e11.BRCP26C5CNBDRD.f09_g16.1pt5degC_OS.012c.cam.h0.TREFHT.200601-210012.nc’\n",
      "‘/glade/scratch/mclong/hpss-mirror/CESM-CAM5-BGC-LowWarming/atm/proc/tseries/monthly/TREFHT/b.e11.BRCP26C5CNBDRD.f09_g16.1pt5degC_OS.013c.cam.h0.TREFHT.200601-210012.nc’ -> ‘/glade/campaign/cgd/oce/people/mclong/CESM-CAM5-BGC-LowWarming/atm/proc/tseries/monthly/TREFHT/./b.e11.BRCP26C5CNBDRD.f09_g16.1pt5degC_OS.013c.cam.h0.TREFHT.200601-210012.nc’\n",
      "removed ‘/glade/scratch/mclong/hpss-mirror/CESM-CAM5-BGC-LowWarming/atm/proc/tseries/monthly/TREFHT/b.e11.BRCP26C5CNBDRD.f09_g16.1pt5degC_OS.013c.cam.h0.TREFHT.200601-210012.nc’\n",
      "‘/glade/scratch/mclong/hpss-mirror/CESM-CAM5-BGC-LowWarming/atm/proc/tseries/monthly/TREFHT/b.e11.BRCP26C5CNBDRD.f09_g16.1pt5degC_OS.014c.cam.h0.TREFHT.200601-210012.nc’ -> ‘/glade/campaign/cgd/oce/people/mclong/CESM-CAM5-BGC-LowWarming/atm/proc/tseries/monthly/TREFHT/./b.e11.BRCP26C5CNBDRD.f09_g16.1pt5degC_OS.014c.cam.h0.TREFHT.200601-210012.nc’\n",
      "removed ‘/glade/scratch/mclong/hpss-mirror/CESM-CAM5-BGC-LowWarming/atm/proc/tseries/monthly/TREFHT/b.e11.BRCP26C5CNBDRD.f09_g16.1pt5degC_OS.014c.cam.h0.TREFHT.200601-210012.nc’\n",
      "‘/glade/scratch/mclong/hpss-mirror/CESM-CAM5-BGC-LowWarming/atm/proc/tseries/monthly/TREFHT/b.e11.BRCP26C5CNBDRD.f09_g16.2pt0degC.001.cam.h0.TREFHT.200601-210012.nc’ -> ‘/glade/campaign/cgd/oce/people/mclong/CESM-CAM5-BGC-LowWarming/atm/proc/tseries/monthly/TREFHT/./b.e11.BRCP26C5CNBDRD.f09_g16.2pt0degC.001.cam.h0.TREFHT.200601-210012.nc’\n",
      "removed ‘/glade/scratch/mclong/hpss-mirror/CESM-CAM5-BGC-LowWarming/atm/proc/tseries/monthly/TREFHT/b.e11.BRCP26C5CNBDRD.f09_g16.2pt0degC.001.cam.h0.TREFHT.200601-210012.nc’\n",
      "‘/glade/scratch/mclong/hpss-mirror/CESM-CAM5-BGC-LowWarming/atm/proc/tseries/monthly/TREFHT/b.e11.BRCP26C5CNBDRD.f09_g16.2pt0degC.002.cam.h0.TREFHT.200601-210012.nc’ -> ‘/glade/campaign/cgd/oce/people/mclong/CESM-CAM5-BGC-LowWarming/atm/proc/tseries/monthly/TREFHT/./b.e11.BRCP26C5CNBDRD.f09_g16.2pt0degC.002.cam.h0.TREFHT.200601-210012.nc’\n",
      "removed ‘/glade/scratch/mclong/hpss-mirror/CESM-CAM5-BGC-LowWarming/atm/proc/tseries/monthly/TREFHT/b.e11.BRCP26C5CNBDRD.f09_g16.2pt0degC.002.cam.h0.TREFHT.200601-210012.nc’\n",
      "‘/glade/scratch/mclong/hpss-mirror/CESM-CAM5-BGC-LowWarming/atm/proc/tseries/monthly/TREFHT/b.e11.BRCP26C5CNBDRD.f09_g16.2pt0degC.003.cam.h0.TREFHT.200601-210012.nc’ -> ‘/glade/campaign/cgd/oce/people/mclong/CESM-CAM5-BGC-LowWarming/atm/proc/tseries/monthly/TREFHT/./b.e11.BRCP26C5CNBDRD.f09_g16.2pt0degC.003.cam.h0.TREFHT.200601-210012.nc’\n",
      "removed ‘/glade/scratch/mclong/hpss-mirror/CESM-CAM5-BGC-LowWarming/atm/proc/tseries/monthly/TREFHT/b.e11.BRCP26C5CNBDRD.f09_g16.2pt0degC.003.cam.h0.TREFHT.200601-210012.nc’\n",
      "‘/glade/scratch/mclong/hpss-mirror/CESM-CAM5-BGC-LowWarming/atm/proc/tseries/monthly/TREFHT/b.e11.BRCP26C5CNBDRD.f09_g16.2pt0degC.004.cam.h0.TREFHT.200601-210012.nc’ -> ‘/glade/campaign/cgd/oce/people/mclong/CESM-CAM5-BGC-LowWarming/atm/proc/tseries/monthly/TREFHT/./b.e11.BRCP26C5CNBDRD.f09_g16.2pt0degC.004.cam.h0.TREFHT.200601-210012.nc’\n",
      "removed ‘/glade/scratch/mclong/hpss-mirror/CESM-CAM5-BGC-LowWarming/atm/proc/tseries/monthly/TREFHT/b.e11.BRCP26C5CNBDRD.f09_g16.2pt0degC.004.cam.h0.TREFHT.200601-210012.nc’\n",
      "‘/glade/scratch/mclong/hpss-mirror/CESM-CAM5-BGC-LowWarming/atm/proc/tseries/monthly/TREFHT/b.e11.BRCP26C5CNBDRD.f09_g16.2pt0degC.005.cam.h0.TREFHT.200601-210012.nc’ -> ‘/glade/campaign/cgd/oce/people/mclong/CESM-CAM5-BGC-LowWarming/atm/proc/tseries/monthly/TREFHT/./b.e11.BRCP26C5CNBDRD.f09_g16.2pt0degC.005.cam.h0.TREFHT.200601-210012.nc’\n",
      "removed ‘/glade/scratch/mclong/hpss-mirror/CESM-CAM5-BGC-LowWarming/atm/proc/tseries/monthly/TREFHT/b.e11.BRCP26C5CNBDRD.f09_g16.2pt0degC.005.cam.h0.TREFHT.200601-210012.nc’\n",
      "‘/glade/scratch/mclong/hpss-mirror/CESM-CAM5-BGC-LowWarming/atm/proc/tseries/monthly/TREFHT/b.e11.BRCP26C5CNBDRD.f09_g16.2pt0degC.006.cam.h0.TREFHT.200601-210012.nc’ -> ‘/glade/campaign/cgd/oce/people/mclong/CESM-CAM5-BGC-LowWarming/atm/proc/tseries/monthly/TREFHT/./b.e11.BRCP26C5CNBDRD.f09_g16.2pt0degC.006.cam.h0.TREFHT.200601-210012.nc’\n",
      "removed ‘/glade/scratch/mclong/hpss-mirror/CESM-CAM5-BGC-LowWarming/atm/proc/tseries/monthly/TREFHT/b.e11.BRCP26C5CNBDRD.f09_g16.2pt0degC.006.cam.h0.TREFHT.200601-210012.nc’\n",
      "‘/glade/scratch/mclong/hpss-mirror/CESM-CAM5-BGC-LowWarming/atm/proc/tseries/monthly/TREFHT/b.e11.BRCP26C5CNBDRD.f09_g16.2pt0degC.007.cam.h0.TREFHT.200601-210012.nc’ -> ‘/glade/campaign/cgd/oce/people/mclong/CESM-CAM5-BGC-LowWarming/atm/proc/tseries/monthly/TREFHT/./b.e11.BRCP26C5CNBDRD.f09_g16.2pt0degC.007.cam.h0.TREFHT.200601-210012.nc’\n",
      "removed ‘/glade/scratch/mclong/hpss-mirror/CESM-CAM5-BGC-LowWarming/atm/proc/tseries/monthly/TREFHT/b.e11.BRCP26C5CNBDRD.f09_g16.2pt0degC.007.cam.h0.TREFHT.200601-210012.nc’\n",
      "‘/glade/scratch/mclong/hpss-mirror/CESM-CAM5-BGC-LowWarming/atm/proc/tseries/monthly/TREFHT/b.e11.BRCP26C5CNBDRD.f09_g16.2pt0degC.008.cam.h0.TREFHT.200601-210012.nc’ -> ‘/glade/campaign/cgd/oce/people/mclong/CESM-CAM5-BGC-LowWarming/atm/proc/tseries/monthly/TREFHT/./b.e11.BRCP26C5CNBDRD.f09_g16.2pt0degC.008.cam.h0.TREFHT.200601-210012.nc’\n",
      "removed ‘/glade/scratch/mclong/hpss-mirror/CESM-CAM5-BGC-LowWarming/atm/proc/tseries/monthly/TREFHT/b.e11.BRCP26C5CNBDRD.f09_g16.2pt0degC.008.cam.h0.TREFHT.200601-210012.nc’\n",
      "‘/glade/scratch/mclong/hpss-mirror/CESM-CAM5-BGC-LowWarming/atm/proc/tseries/monthly/TREFHT/b.e11.BRCP26C5CNBDRD.f09_g16.2pt0degC.009.cam.h0.TREFHT.200601-210012.nc’ -> ‘/glade/campaign/cgd/oce/people/mclong/CESM-CAM5-BGC-LowWarming/atm/proc/tseries/monthly/TREFHT/./b.e11.BRCP26C5CNBDRD.f09_g16.2pt0degC.009.cam.h0.TREFHT.200601-210012.nc’\n",
      "removed ‘/glade/scratch/mclong/hpss-mirror/CESM-CAM5-BGC-LowWarming/atm/proc/tseries/monthly/TREFHT/b.e11.BRCP26C5CNBDRD.f09_g16.2pt0degC.009.cam.h0.TREFHT.200601-210012.nc’\n",
      "‘/glade/scratch/mclong/hpss-mirror/CESM-CAM5-BGC-LowWarming/atm/proc/tseries/monthly/TREFHT/b.e11.BRCP26C5CNBDRD.f09_g16.2pt0degC.010.cam.h0.TREFHT.200601-210012.nc’ -> ‘/glade/campaign/cgd/oce/people/mclong/CESM-CAM5-BGC-LowWarming/atm/proc/tseries/monthly/TREFHT/./b.e11.BRCP26C5CNBDRD.f09_g16.2pt0degC.010.cam.h0.TREFHT.200601-210012.nc’\n",
      "removed ‘/glade/scratch/mclong/hpss-mirror/CESM-CAM5-BGC-LowWarming/atm/proc/tseries/monthly/TREFHT/b.e11.BRCP26C5CNBDRD.f09_g16.2pt0degC.010.cam.h0.TREFHT.200601-210012.nc’\n",
      "‘/glade/scratch/mclong/hpss-mirror/CESM-CAM5-BGC-LowWarming/atm/proc/tseries/monthly/TREFHT/b.e11.BRCP26C5CNBDRD.f09_g16.2pt0degC.011.cam.h0.TREFHT.200601-210012.nc’ -> ‘/glade/campaign/cgd/oce/people/mclong/CESM-CAM5-BGC-LowWarming/atm/proc/tseries/monthly/TREFHT/./b.e11.BRCP26C5CNBDRD.f09_g16.2pt0degC.011.cam.h0.TREFHT.200601-210012.nc’\n",
      "removed ‘/glade/scratch/mclong/hpss-mirror/CESM-CAM5-BGC-LowWarming/atm/proc/tseries/monthly/TREFHT/b.e11.BRCP26C5CNBDRD.f09_g16.2pt0degC.011.cam.h0.TREFHT.200601-210012.nc’\n",
      "‘/glade/scratch/mclong/hpss-mirror/CESM-CAM5-BGC-LowWarming/atm/proc/tseries/monthly/TREFHT/b.e11.BRCP26C5CNBDRD.f09_g16.2pt0degC.011c.cam.h0.TREFHT.200601-210012.nc’ -> ‘/glade/campaign/cgd/oce/people/mclong/CESM-CAM5-BGC-LowWarming/atm/proc/tseries/monthly/TREFHT/./b.e11.BRCP26C5CNBDRD.f09_g16.2pt0degC.011c.cam.h0.TREFHT.200601-210012.nc’\n",
      "removed ‘/glade/scratch/mclong/hpss-mirror/CESM-CAM5-BGC-LowWarming/atm/proc/tseries/monthly/TREFHT/b.e11.BRCP26C5CNBDRD.f09_g16.2pt0degC.011c.cam.h0.TREFHT.200601-210012.nc’\n",
      "‘/glade/scratch/mclong/hpss-mirror/CESM-CAM5-BGC-LowWarming/atm/proc/tseries/monthly/TREFHT/b.e11.BRCP26C5CNBDRD.f09_g16.2pt0degC.012c.cam.h0.TREFHT.200601-210012.nc’ -> ‘/glade/campaign/cgd/oce/people/mclong/CESM-CAM5-BGC-LowWarming/atm/proc/tseries/monthly/TREFHT/./b.e11.BRCP26C5CNBDRD.f09_g16.2pt0degC.012c.cam.h0.TREFHT.200601-210012.nc’\n",
      "removed ‘/glade/scratch/mclong/hpss-mirror/CESM-CAM5-BGC-LowWarming/atm/proc/tseries/monthly/TREFHT/b.e11.BRCP26C5CNBDRD.f09_g16.2pt0degC.012c.cam.h0.TREFHT.200601-210012.nc’\n",
      "‘/glade/scratch/mclong/hpss-mirror/CESM-CAM5-BGC-LowWarming/atm/proc/tseries/monthly/TREFHT/b.e11.BRCP26C5CNBDRD.f09_g16.2pt0degC.013c.cam.h0.TREFHT.200601-210012.nc’ -> ‘/glade/campaign/cgd/oce/people/mclong/CESM-CAM5-BGC-LowWarming/atm/proc/tseries/monthly/TREFHT/./b.e11.BRCP26C5CNBDRD.f09_g16.2pt0degC.013c.cam.h0.TREFHT.200601-210012.nc’\n",
      "removed ‘/glade/scratch/mclong/hpss-mirror/CESM-CAM5-BGC-LowWarming/atm/proc/tseries/monthly/TREFHT/b.e11.BRCP26C5CNBDRD.f09_g16.2pt0degC.013c.cam.h0.TREFHT.200601-210012.nc’\n",
      "‘/glade/scratch/mclong/hpss-mirror/CESM-CAM5-BGC-LowWarming/atm/proc/tseries/monthly/TREFHT/b.e11.BRCP26C5CNBDRD.f09_g16.2pt0degC.014c.cam.h0.TREFHT.200601-210012.nc’ -> ‘/glade/campaign/cgd/oce/people/mclong/CESM-CAM5-BGC-LowWarming/atm/proc/tseries/monthly/TREFHT/./b.e11.BRCP26C5CNBDRD.f09_g16.2pt0degC.014c.cam.h0.TREFHT.200601-210012.nc’\n",
      "removed ‘/glade/scratch/mclong/hpss-mirror/CESM-CAM5-BGC-LowWarming/atm/proc/tseries/monthly/TREFHT/b.e11.BRCP26C5CNBDRD.f09_g16.2pt0degC.014c.cam.h0.TREFHT.200601-210012.nc’\n"
     ]
    }
   ],
   "source": [
    "#mv -v /glade/scratch/mclong/hpss-mirror/CESM-CAM5-BGC-LowWarming/atm/proc/tseries/monthly/TREFHT/* ${local_path}/${varname}/."
   ]
  }
 ],
 "metadata": {
  "kernelspec": {
   "display_name": "Bash",
   "language": "bash",
   "name": "bash"
  },
  "language_info": {
   "codemirror_mode": "shell",
   "file_extension": ".sh",
   "mimetype": "text/x-sh",
   "name": "bash"
  }
 },
 "nbformat": 4,
 "nbformat_minor": 4
}
