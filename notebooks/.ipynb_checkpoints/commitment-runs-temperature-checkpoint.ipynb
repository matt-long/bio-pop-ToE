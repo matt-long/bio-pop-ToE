{
 "cells": [
  {
   "cell_type": "code",
   "execution_count": 2,
   "metadata": {},
   "outputs": [],
   "source": [
    "%matplotlib inline\n",
    "import os\n",
    "import shutil\n",
    "from glob import glob\n",
    "\n",
    "import numpy as np\n",
    "import xarray as xr\n",
    "\n",
    "import matplotlib.pyplot as plt\n",
    "import cartopy.crs as ccrs\n",
    "from cartopy.util import add_cyclic_point\n",
    "import dask"
   ]
  },
  {
   "cell_type": "code",
   "execution_count": 3,
   "metadata": {},
   "outputs": [
    {
     "data": {
      "text/html": [
       "<table style=\"border: 2px solid white;\">\n",
       "<tr>\n",
       "<td style=\"vertical-align: top; border: 0px solid white\">\n",
       "<h3 style=\"text-align: left;\">Client</h3>\n",
       "<ul style=\"text-align: left; list-style: none; margin: 0; padding: 0;\">\n",
       "  <li><b>Scheduler: </b>tcp://10.12.205.32:40887</li>\n",
       "  <li><b>Dashboard: </b><a href='https://jupyterhub.ucar.edu/dav/user/mclong/proxy/8787/status' target='_blank'>https://jupyterhub.ucar.edu/dav/user/mclong/proxy/8787/status</a>\n",
       "</ul>\n",
       "</td>\n",
       "<td style=\"vertical-align: top; border: 0px solid white\">\n",
       "<h3 style=\"text-align: left;\">Cluster</h3>\n",
       "<ul style=\"text-align: left; list-style:none; margin: 0; padding: 0;\">\n",
       "  <li><b>Workers: </b>0</li>\n",
       "  <li><b>Cores: </b>0</li>\n",
       "  <li><b>Memory: </b>0 B</li>\n",
       "</ul>\n",
       "</td>\n",
       "</tr>\n",
       "</table>"
      ],
      "text/plain": [
       "<Client: 'tcp://10.12.205.32:40887' processes=0 threads=0, memory=0 B>"
      ]
     },
     "execution_count": 3,
     "metadata": {},
     "output_type": "execute_result"
    }
   ],
   "source": [
    "from ncar_jobqueue import NCARCluster\n",
    "from dask.distributed import Client\n",
    "try:\n",
    "    cluster\n",
    "    client\n",
    "except:\n",
    "    cluster = NCARCluster(cores=1, memory=\"10 GB\", processes=1, walltime=\"2:00:00\")\n",
    "    cluster.scale(18)\n",
    "    client = Client(cluster) # Connect this local process to remote workers'\n",
    "client"
   ]
  },
  {
   "cell_type": "code",
   "execution_count": 4,
   "metadata": {},
   "outputs": [],
   "source": [
    "for f in glob('data/cesm-commitment.*'):\n",
    "    os.remove(f)"
   ]
  },
  {
   "cell_type": "code",
   "execution_count": 6,
   "metadata": {},
   "outputs": [
    {
     "name": "stdout",
     "output_type": "stream",
     "text": [
      "1pt5degC 001: ['20060101-21001231']\n",
      "1pt5degC 002: ['20060101-21001231']\n",
      "1pt5degC 003: ['20060101-21001231']\n",
      "1pt5degC 004: ['20060101-21001231']\n",
      "1pt5degC 005: ['20060101-21001231']\n",
      "1pt5degC 006: ['20110101-21001231']\n",
      "1pt5degC 007: ['20110101-20501231', '20510101-21001231']\n",
      "1pt5degC 008: ['20060101-21001231']\n",
      "1pt5degC 009: ['20260101-21001231']\n",
      "1pt5degC 009c: ['20060101-21001231']\n",
      "1pt5degC 010: ['20260101-21001231']\n",
      "1pt5degC 010c: ['20060101-21001231']\n",
      "1pt5degC 011: ['20060101-21001231']\n",
      "1pt5degC 011c: ['20060101-20091231', '20100101-20191231', '20200101-20291231', '20300101-20391231', '20400101-20491231', '20500101-20591231', '20600101-20691231', '20700101-20791231', '20800101-20891231', '20900101-20991231', '20900101-21001231']\n",
      "1pt5degC 012c: ['20060101-21001231']\n",
      "1pt5degC 013c: ['20060101-21001231']\n",
      "1pt5degC 014c: ['20060101-21001231']\n",
      "1pt5degC_OS 001: ['20060101-21001231']\n",
      "1pt5degC_OS 002: ['20060101-21001231']\n",
      "1pt5degC_OS 003: ['20060101-21001231']\n",
      "1pt5degC_OS 004: ['20060101-21001231']\n",
      "1pt5degC_OS 005: ['20060101-20501231', '20510101-21001231']\n",
      "1pt5degC_OS 009c: ['20060101-21001231']\n",
      "1pt5degC_OS 010c: ['20060101-21001231']\n",
      "1pt5degC_OS 011: ['20060101-20501231', '20510101-21001231']\n",
      "1pt5degC_OS 011c: ['20060101-20091231', '20100101-20191231', '20200101-20291231', '20300101-20391231', '20400101-20491231', '20500101-20591231', '20600101-20691231', '20700101-20791231', '20800101-20891231', '20900101-20991231', '20900101-21001231']\n",
      "1pt5degC_OS 012c: ['20060101-21001231']\n",
      "1pt5degC_OS 013c: ['20060101-21001231']\n",
      "1pt5degC_OS 014c: ['20060101-21001231']\n",
      "2pt0degC 001: ['20060101-21001231']\n",
      "2pt0degC 002: ['20060101-21001231']\n",
      "2pt0degC 003: ['20060101-21001231']\n",
      "2pt0degC 004: ['20060101-21001231']\n",
      "2pt0degC 005: ['20060101-21001231']\n",
      "2pt0degC 006: ['20060101-21001231']\n",
      "2pt0degC 007: ['20060101-21001231']\n",
      "2pt0degC 008: ['20060101-21001231']\n",
      "2pt0degC 009: ['20060101-21001231']\n",
      "2pt0degC 010: ['20060101-21001231']\n",
      "2pt0degC 011: ['20060101-21001231']\n",
      "2pt0degC 011c: ['20060101-20091231', '20100101-20191231', '20200101-20291231', '20300101-20391231', '20400101-20491231', '20500101-20591231', '20600101-20691231', '20700101-20791231', '20800101-20891231', '20900101-20991231', '20900101-21001231']\n",
      "2pt0degC 012c: ['20060101-21001231']\n",
      "2pt0degC 013c: ['20060101-21001231']\n",
      "2pt0degC 014c: ['20060101-21001231']\n"
     ]
    }
   ],
   "source": [
    "path = '/glade/campaign/cesm/collections/LowWarming/CESM-CAM5-BGC-LowWarming/atm/proc/tseries/daily'\n",
    "varname = 'TREFHT'\n",
    "cases = [\n",
    "    '1pt5degC',\n",
    "    '1pt5degC_OS',\n",
    "    '2pt0degC',\n",
    "]\n",
    "\n",
    "lon, lat = 5.85573, 52.0407254\n",
    "\n",
    "for case in cases:\n",
    "    \n",
    "    files = sorted(glob(f'{path}/{varname}/b.e11.BRCP26C5CNBDRD.f09_g16.{case}.*.nc'))\n",
    "    member_ids = sorted(list(set([f.split('.')[-6] for f in files])))\n",
    "    \n",
    "    ds_list = []    \n",
    "    for m in member_ids:\n",
    "        mem_files = sorted(f for f in files if (f.split('.')[-6] == m))\n",
    "        \n",
    "        print(case, m, end=': ')\n",
    "        print([f.split('.')[-2] for f in mem_files])\n",
    "        \n",
    "        with dask.config.set(**{'array.slicing.split_large_chunks': True}):\n",
    "            dsm = xr.open_mfdataset(mem_files, chunks={'time': 1000}, decode_times=True,)\n",
    "        ds_list.append(dsm)\n",
    "    \n",
    "    member_id = xr.DataArray(member_ids, dims=('member_id'), name='member_id')\n",
    "    \n",
    "    with dask.config.set(**{'array.slicing.split_large_chunks': True}):\n",
    "        ds = xr.concat(ds_list, dim=member_id)\n",
    "\n",
    "    dsp = ds.interp(lat=lat, lon=lon).reset_coords(['lat', 'lon'], drop=True)\n",
    "    dsp_mon = dsp.resample(time='M').mean()\n",
    "    \n",
    "    for member_id in dsp.member_id.values:\n",
    "        dsp.TREFHT.sel(member_id=member_id).to_dataframe().to_csv(f'data/cesm-commitment.{case}.TREFHT.{member_id}.csv')        "
   ]
  },
  {
   "cell_type": "code",
   "execution_count": null,
   "metadata": {},
   "outputs": [],
   "source": []
  }
 ],
 "metadata": {
  "kernelspec": {
   "display_name": "Python [conda env:miniconda3-co2-hole]",
   "language": "python",
   "name": "conda-env-miniconda3-co2-hole-py"
  },
  "language_info": {
   "codemirror_mode": {
    "name": "ipython",
    "version": 3
   },
   "file_extension": ".py",
   "mimetype": "text/x-python",
   "name": "python",
   "nbconvert_exporter": "python",
   "pygments_lexer": "ipython3",
   "version": "3.7.8"
  }
 },
 "nbformat": 4,
 "nbformat_minor": 4
}
