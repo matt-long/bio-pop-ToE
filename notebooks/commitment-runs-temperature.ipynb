{
 "cells": [
  {
   "cell_type": "code",
   "execution_count": 1,
   "metadata": {},
   "outputs": [],
   "source": [
    "%matplotlib inline\n",
    "import os\n",
    "import shutil\n",
    "from glob import glob\n",
    "\n",
    "import numpy as np\n",
    "import xarray as xr\n",
    "\n",
    "import matplotlib.pyplot as plt\n",
    "import cartopy.crs as ccrs\n",
    "from cartopy.util import add_cyclic_point\n",
    "import dask"
   ]
  },
  {
   "cell_type": "code",
   "execution_count": 3,
   "metadata": {},
   "outputs": [
    {
     "data": {
      "text/html": [
       "<table style=\"border: 2px solid white;\">\n",
       "<tr>\n",
       "<td style=\"vertical-align: top; border: 0px solid white\">\n",
       "<h3 style=\"text-align: left;\">Client</h3>\n",
       "<ul style=\"text-align: left; list-style: none; margin: 0; padding: 0;\">\n",
       "  <li><b>Scheduler: </b>tcp://10.12.205.200:45029</li>\n",
       "  <li><b>Dashboard: </b><a href='https://jupyterhub.ucar.edu/dav/user/mgrover/proxy/39371/status' target='_blank'>https://jupyterhub.ucar.edu/dav/user/mgrover/proxy/39371/status</a></li>\n",
       "</ul>\n",
       "</td>\n",
       "<td style=\"vertical-align: top; border: 0px solid white\">\n",
       "<h3 style=\"text-align: left;\">Cluster</h3>\n",
       "<ul style=\"text-align: left; list-style:none; margin: 0; padding: 0;\">\n",
       "  <li><b>Workers: </b>18</li>\n",
       "  <li><b>Cores: </b>18</li>\n",
       "  <li><b>Memory: </b>180.00 GB</li>\n",
       "</ul>\n",
       "</td>\n",
       "</tr>\n",
       "</table>"
      ],
      "text/plain": [
       "<Client: 'tcp://10.12.205.200:45029' processes=18 threads=18, memory=180.00 GB>"
      ]
     },
     "execution_count": 3,
     "metadata": {},
     "output_type": "execute_result"
    }
   ],
   "source": [
    "from ncar_jobqueue import NCARCluster\n",
    "from dask.distributed import Client\n",
    "try:\n",
    "    cluster\n",
    "    client\n",
    "except:\n",
    "    cluster = NCARCluster(cores=1, memory=\"10 GB\", processes=1, walltime=\"2:00:00\")\n",
    "    cluster.scale(18)\n",
    "    client = Client(cluster) # Connect this local process to remote workers'\n",
    "client"
   ]
  },
  {
   "cell_type": "code",
   "execution_count": 4,
   "metadata": {
    "scrolled": false
   },
   "outputs": [
    {
     "name": "stdout",
     "output_type": "stream",
     "text": [
      "1pt5degC 009\n",
      "1pt5degC 003\n",
      "1pt5degC 002\n",
      "1pt5degC 006\n",
      "1pt5degC 012c\n",
      "1pt5degC 011c\n",
      "1pt5degC 009c\n",
      "1pt5degC 010c\n",
      "1pt5degC 014c\n",
      "1pt5degC 001\n",
      "1pt5degC 008\n",
      "1pt5degC 010\n",
      "1pt5degC 007\n",
      "1pt5degC 004\n",
      "1pt5degC 005\n",
      "1pt5degC 011\n",
      "1pt5degC 013c\n",
      "1pt5degC_OS 003\n",
      "1pt5degC_OS 002\n",
      "1pt5degC_OS 012c\n",
      "1pt5degC_OS 011c\n",
      "1pt5degC_OS 009c\n",
      "1pt5degC_OS 010c\n",
      "1pt5degC_OS 014c\n",
      "1pt5degC_OS 001\n",
      "1pt5degC_OS 004\n",
      "1pt5degC_OS 005\n",
      "1pt5degC_OS 011\n",
      "1pt5degC_OS 013c\n",
      "2pt0degC 009\n",
      "2pt0degC 003\n",
      "2pt0degC 002\n",
      "2pt0degC 006\n",
      "2pt0degC 012c\n",
      "2pt0degC 011c\n",
      "2pt0degC 014c\n",
      "2pt0degC 001\n",
      "2pt0degC 008\n",
      "2pt0degC 010\n",
      "2pt0degC 007\n",
      "2pt0degC 004\n",
      "2pt0degC 005\n",
      "2pt0degC 011\n",
      "2pt0degC 013c\n"
     ]
    }
   ],
   "source": [
    "path = '/glade/campaign/cesm/collections/LowWarming/CESM-CAM5-BGC-LowWarming/atm/proc/tseries/daily'\n",
    "varname = 'TREFHT'\n",
    "cases = [\n",
    "    '1pt5degC',\n",
    "    '1pt5degC_OS',\n",
    "    '2pt0degC',\n",
    "]\n",
    "\n",
    "lon, lat = 5.85573, 52.0407254\n",
    "\n",
    "for case in cases:\n",
    "    \n",
    "    files = sorted(glob(f'{path}/{varname}/b.e11.BRCP26C5CNBDRD.f09_g16.{case}.*.nc'))\n",
    "    member_ids = [f.split('.')[-6] for f in files]\n",
    "    \n",
    "    ds_list = []\n",
    "    \n",
    "    for m in set(member_ids):\n",
    "        print(case, m)\n",
    "        mem_files = sorted(f for f in files if (f.split('.')[-6] == m))\n",
    "        with dask.config.set(**{'array.slicing.split_large_chunks': True}):\n",
    "            dsm = xr.open_mfdataset(mem_files, chunks={'time': 1000}, decode_times=True,)\n",
    "        ds_list.append(dsm)\n",
    "\n",
    "    member_id = xr.DataArray(np.arange(len(ds_list)), dims=('member_id'), name='member_id')\n",
    "    \n",
    "    with dask.config.set(**{'array.slicing.split_large_chunks': True}):\n",
    "        ds = xr.concat(ds_list, dim=member_id)\n",
    "\n",
    "    dsp = ds.interp(lat=lat, lon=lon).reset_coords(['lat', 'lon'], drop=True)\n",
    "    dsp_mon = dsp.resample(time='M').mean()\n",
    "    \n",
    "    for member_id in dsp.member_id.values:\n",
    "        dsp.TREFHT.sel(member_id=member_id).to_dataframe().to_csv(f'data/cesm-commitment.{case}.TREFHT.{member_id:03d}.csv')        "
   ]
  }
 ],
 "metadata": {
  "kernelspec": {
   "display_name": "CMIP6 2019.10",
   "language": "python",
   "name": "cmip6-201910"
  },
  "language_info": {
   "codemirror_mode": {
    "name": "ipython",
    "version": 3
   },
   "file_extension": ".py",
   "mimetype": "text/x-python",
   "name": "python",
   "nbconvert_exporter": "python",
   "pygments_lexer": "ipython3",
   "version": "3.7.8"
  }
 },
 "nbformat": 4,
 "nbformat_minor": 4
}
